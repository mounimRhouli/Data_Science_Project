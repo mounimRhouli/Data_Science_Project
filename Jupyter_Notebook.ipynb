{
  "metadata": {
    "kernelspec": {
      "name": "xpython",
      "display_name": "Python 3.13 (XPython)",
      "language": "python"
    },
    "language_info": {
      "file_extension": ".py",
      "mimetype": "text/x-python",
      "name": "python",
      "version": "3.13.1"
    }
  },
  "nbformat_minor": 4,
  "nbformat": 4,
  "cells": [
    {
      "cell_type": "markdown",
      "source": "<center>\n    <img src=\"https://cf-courses-data.s3.us.cloud-object-storage.appdomain.cloud/IBMDeveloperSkillsNetwork-DS0105EN-SkillsNetwork/labs/Module2/images/SN_web_lightmode.png\" width=\"300\" alt=\"cognitiveclass.ai logo\">\n</center>\n",
      "metadata": {}
    },
    {
      "cell_type": "markdown",
      "source": "#### Add your code below following the instructions given in the course\n",
      "metadata": {}
    },
    {
      "cell_type": "markdown",
      "source": "# My Data Science Project with JupyterLite\n",
      "metadata": {}
    },
    {
      "cell_type": "markdown",
      "source": "## Introduction\n\nWelcome! This notebook showcases various Markdown and Python code examples as part of my final assignment for the data science course.",
      "metadata": {}
    },
    {
      "cell_type": "markdown",
      "source": "## Data Science Languages\n\n- Python  \n- R  \n- Julia  \n- SQL\n",
      "metadata": {}
    },
    {
      "cell_type": "markdown",
      "source": "## Common Data Science Libraries\n\n- NumPy  \n- Pandas  \n- Matplotlib  \n- Scikit-learn  \n- TensorFlow or PyTorch\n",
      "metadata": {}
    },
    {
      "cell_type": "markdown",
      "source": "## Data Science Tools\n\n| Tool           | Purpose                      |\n|----------------|-------------------------------|\n| Jupyter        | Interactive coding & analysis |\n| Git            | Version control              |\n| GitHub         | Hosting & sharing code       |\n| VS Code        | Code development environment |\n",
      "metadata": {}
    },
    {
      "cell_type": "markdown",
      "source": "## Arithmetic Examples\n\nBelow are simple Python operations demonstrating addition and multiplication.\n",
      "metadata": {}
    },
    {
      "cell_type": "code",
      "source": "# Multiply and add example\na = 5\nb = 7\nproduct = a * b\nsum_ = a + b\nproduct, sum_\n",
      "metadata": {
        "trusted": true
      },
      "outputs": [
        {
          "execution_count": 1,
          "output_type": "execute_result",
          "data": {
            "text/plain": "(35, 12)"
          },
          "metadata": {}
        }
      ],
      "execution_count": 1
    },
    {
      "cell_type": "code",
      "source": "# Convert minutes to hours and minutes\ndef convert_minutes(minutes):\n    hours = minutes // 60\n    remaining = minutes % 60\n    return f\"{hours} hour(s), {remaining} minute(s)\"\n\n# Example usage\nconvert_minutes(135)\n",
      "metadata": {
        "trusted": true
      },
      "outputs": [
        {
          "execution_count": 2,
          "output_type": "execute_result",
          "data": {
            "text/plain": "'2 hour(s), 15 minute(s)'"
          },
          "metadata": {}
        }
      ],
      "execution_count": 2
    },
    {
      "cell_type": "markdown",
      "source": "## Objectives\n\n1. Demonstrate use of Markdown cells  \n2. Show simple Python computations  \n3. Display formatted output  \n4. Create and share a public GitHub notebook\n",
      "metadata": {}
    },
    {
      "cell_type": "markdown",
      "source": "**Author:** RHOULI MOHAMED MOUNIM\n",
      "metadata": {}
    },
    {
      "cell_type": "code",
      "source": "",
      "metadata": {
        "trusted": true
      },
      "outputs": [],
      "execution_count": null
    }
  ]
}